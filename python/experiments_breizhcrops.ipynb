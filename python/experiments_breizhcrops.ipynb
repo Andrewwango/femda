{
 "cells": [
  {
   "cell_type": "code",
   "execution_count": 1,
   "id": "streaming-reference",
   "metadata": {},
   "outputs": [],
   "source": [
    "import numpy as np\n",
    "import pandas as pd\n",
    "import random, os, time, csv, warnings, math\n",
    "from sklearn import metrics, decomposition, discriminant_analysis\n",
    "from scipy import stats, special, optimize\n",
    "from sklearn.model_selection import train_test_split\n",
    "warnings.filterwarnings('ignore') # AMI warning"
   ]
  },
  {
   "cell_type": "code",
   "execution_count": 2,
   "id": "acoustic-result",
   "metadata": {},
   "outputs": [],
   "source": [
    "import matplotlib\n",
    "import matplotlib.pyplot as plt\n",
    "%matplotlib inline"
   ]
  },
  {
   "cell_type": "code",
   "execution_count": 3,
   "id": "emotional-tanzania",
   "metadata": {},
   "outputs": [],
   "source": [
    "from preprocess_utils import *\n",
    "from postprocess_utils import *\n",
    "from vis import *\n",
    "from literature_models import *\n",
    "from fit import *\n",
    "from femda import *\n",
    "from run_experiments import run_algorithms as run_all\n",
    "from run_experiments import test_models as test_all\n",
    "from run_experiments import NUMBER_OF_ALGORITHMS,NUMBER_OF_MEASURES_REAL,NUMBER_OF_MEASURES_SYNTH,NUMBER_OF_RUNS"
   ]
  },
  {
   "cell_type": "code",
   "execution_count": 4,
   "id": "unavailable-sudan",
   "metadata": {},
   "outputs": [],
   "source": [
    "from tqdm import tqdm"
   ]
  },
  {
   "cell_type": "code",
   "execution_count": 5,
   "id": "lonely-lincoln",
   "metadata": {},
   "outputs": [],
   "source": [
    "import breizhcrops as bzh"
   ]
  },
  {
   "cell_type": "code",
   "execution_count": 6,
   "id": "centered-amsterdam",
   "metadata": {},
   "outputs": [],
   "source": [
    "bzh_train_raw = bzh.BreizhCrops(\"frh01\")"
   ]
  },
  {
   "cell_type": "code",
   "execution_count": 7,
   "id": "exciting-garbage",
   "metadata": {},
   "outputs": [],
   "source": [
    "bzh_test_raw = bzh.BreizhCrops(\"frh04\")"
   ]
  },
  {
   "cell_type": "code",
   "execution_count": 8,
   "id": "covered-sharp",
   "metadata": {},
   "outputs": [],
   "source": [
    "def Dataset2numpy(dataset, l=-1):\n",
    "    if l==-1: l = len(dataset)\n",
    "    TD = dataset[0][0].shape\n",
    "    X = np.zeros((l, *TD))\n",
    "    y = np.zeros((l))\n",
    "    for i in tqdm(range(len(dataset))):\n",
    "        if i==l: break\n",
    "        X[i,:,:] = dataset[i][0].numpy()\n",
    "        y[i] = dataset[i][1].numpy()\n",
    "    X_flat = X.reshape(l, -1)\n",
    "    return X_flat, y"
   ]
  },
  {
   "cell_type": "code",
   "execution_count": 25,
   "id": "latin-combination",
   "metadata": {
    "jupyter": {
     "source_hidden": true
    },
    "tags": []
   },
   "outputs": [
    {
     "name": "stderr",
     "output_type": "stream",
     "text": [
      "  6%|▌         | 10000/178613 [03:43<1:02:51, 44.71it/s]\n"
     ]
    }
   ],
   "source": [
    "bzh_train, bzh_y = Dataset2numpy(bzh_train_raw, l=10000)"
   ]
  },
  {
   "cell_type": "code",
   "execution_count": 26,
   "id": "european-eagle",
   "metadata": {
    "jupyter": {
     "source_hidden": true
    },
    "tags": []
   },
   "outputs": [
    {
     "name": "stderr",
     "output_type": "stream",
     "text": [
      "  2%|▏         | 3000/122614 [00:41<27:40, 72.02it/s]\n"
     ]
    }
   ],
   "source": [
    "bzh_test, bzh_test_y = Dataset2numpy(bzh_test_raw, l=3000)"
   ]
  },
  {
   "cell_type": "code",
   "execution_count": 9,
   "id": "upper-variety",
   "metadata": {},
   "outputs": [],
   "source": [
    "%store -r bzh_train"
   ]
  },
  {
   "cell_type": "code",
   "execution_count": 10,
   "id": "amino-reggae",
   "metadata": {},
   "outputs": [],
   "source": [
    "%store -r bzh_test"
   ]
  },
  {
   "cell_type": "code",
   "execution_count": 11,
   "id": "patent-oracle",
   "metadata": {},
   "outputs": [],
   "source": [
    "%store -r bzh_y"
   ]
  },
  {
   "cell_type": "code",
   "execution_count": 12,
   "id": "continent-seminar",
   "metadata": {},
   "outputs": [],
   "source": [
    "%store -r bzh_test_y"
   ]
  },
  {
   "cell_type": "code",
   "execution_count": 13,
   "id": "determined-combination",
   "metadata": {},
   "outputs": [],
   "source": [
    "cats = np.unique(bzh_y)"
   ]
  },
  {
   "cell_type": "code",
   "execution_count": 14,
   "id": "unlimited-admission",
   "metadata": {},
   "outputs": [
    {
     "name": "stdout",
     "output_type": "stream",
     "text": [
      "[0. 1. 2. 3. 5. 7. 8.] [0. 1. 2. 3. 5. 7. 8.]\n"
     ]
    }
   ],
   "source": [
    "print(np.unique(bzh_y), np.unique(bzh_test_y))"
   ]
  },
  {
   "cell_type": "code",
   "execution_count": 15,
   "id": "collaborative-links",
   "metadata": {},
   "outputs": [
    {
     "name": "stdout",
     "output_type": "stream",
     "text": [
      "[706, 1565, 279, 2270, 26, 1985, 3169] [162, 452, 75, 819, 10, 629, 853]\n"
     ]
    }
   ],
   "source": [
    "print([(bzh_y == u).sum() for u in cats], [(bzh_test_y == u).sum() for u in cats])"
   ]
  },
  {
   "cell_type": "code",
   "execution_count": 16,
   "id": "jewish-european",
   "metadata": {},
   "outputs": [],
   "source": [
    "bzh_pca, bzh_labels, _, _, pca = import_subset(bzh_train, bzh_y, cats, 30, -1)"
   ]
  },
  {
   "cell_type": "code",
   "execution_count": 17,
   "id": "accompanied-orleans",
   "metadata": {},
   "outputs": [],
   "source": [
    "bzh_test_pca, bzh_test_labels, _, _,_ = import_subset(bzh_test, bzh_test_y, cats, 30, -1, pca=pca)"
   ]
  },
  {
   "cell_type": "code",
   "execution_count": 18,
   "id": "miniature-macro",
   "metadata": {},
   "outputs": [
    {
     "name": "stdout",
     "output_type": "stream",
     "text": [
      "LDA\n",
      "[0.0706 0.1565 0.0279 0.227  0.0026 0.1985 0.3169]\n",
      "N 3000 Accuracy 0.28467 ARI 0.00234 AMI 0.00037\n",
      "[[  0   1   0  28   0   2 131]\n",
      " [  0   4   0  83   0   1 364]\n",
      " [  0   0   0  18   0   0  57]\n",
      " [  0   2   0 148   0   4 665]\n",
      " [  0   0   0   0   0   1   9]\n",
      " [  0   4   0 132   0   5 488]\n",
      " [  0   4   0 147   0   5 697]]\n",
      "QDA\n",
      "[0.0706 0.1565 0.0279 0.227  0.0026 0.1985 0.3169]\n",
      "RQDA-MCD\n",
      "RGQDA-MCD\n",
      "t-QDA\n",
      "[0.0706 0.1565 0.0279 0.227  0.0026 0.1985 0.3169]\n",
      "FEMDA with p/trace\n",
      "[0.0706 0.1565 0.0279 0.227  0.0026 0.1985 0.3169]\n",
      "N 3000 Accuracy 0.28433 ARI 0.0 AMI 0.0\n",
      "[[  0   0   0   0 162   0   0]\n",
      " [  0   0   0   0 452   0   0]\n",
      " [  0   0   0   0  75   0   0]\n",
      " [  0   0   0   0 819   0   0]\n",
      " [  0   0   0   0  10   0   0]\n",
      " [  0   0   0   0 629   0   0]\n",
      " [  0   0   0   0 853   0   0]]\n",
      "FEMDA pre-normalised\n",
      "[0.0706 0.1565 0.0279 0.227  0.0026 0.1985 0.3169]\n",
      "N 3000 Accuracy 0.28433 ARI 0.0 AMI 0.0\n",
      "[[  0   0   0   0 162   0   0]\n",
      " [  0   0   0   0 452   0   0]\n",
      " [  0   0   0   0  75   0   0]\n",
      " [  0   0   0   0 819   0   0]\n",
      " [  0   0   0   0  10   0   0]\n",
      " [  0   0   0   0 629   0   0]\n",
      " [  0   0   0   0 853   0   0]]\n"
     ]
    },
    {
     "data": {
      "text/plain": [
       "{'LDA': <literature_models.LDA at 0x16aa00252e0>,\n",
       " 'QDA': <literature_models.QDA at 0x16a9e6ddfa0>,\n",
       " 'RQDA-MCD': <literature_models.RGQDA at 0x16ade8da850>,\n",
       " 'RGQDA-MCD': <literature_models.RGQDA at 0x16ade8c1dc0>,\n",
       " 't_QDA': <literature_models.t_QDA at 0x16aa00257c0>,\n",
       " 'FEMDA': <femda.FEMDA at 0x16aa00540a0>,\n",
       " 'FEMDA_N': <femda.FEMDA_N at 0x16aa00543d0>}"
      ]
     },
     "execution_count": 18,
     "metadata": {},
     "output_type": "execute_result"
    }
   ],
   "source": [
    "run_all(bzh_pca, bzh_labels, bzh_test_pca, bzh_test_labels, percent_outliers=0, conf=True, verbose=True, return_results=False)"
   ]
  },
  {
   "cell_type": "code",
   "execution_count": null,
   "id": "optical-newspaper",
   "metadata": {},
   "outputs": [],
   "source": []
  }
 ],
 "metadata": {
  "kernelspec": {
   "display_name": "Python 3",
   "language": "python",
   "name": "python3"
  },
  "language_info": {
   "codemirror_mode": {
    "name": "ipython",
    "version": 3
   },
   "file_extension": ".py",
   "mimetype": "text/x-python",
   "name": "python",
   "nbconvert_exporter": "python",
   "pygments_lexer": "ipython3",
   "version": "3.8.7"
  }
 },
 "nbformat": 4,
 "nbformat_minor": 5
}
