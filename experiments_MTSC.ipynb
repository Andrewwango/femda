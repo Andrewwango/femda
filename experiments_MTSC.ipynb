{
 "cells": [
  {
   "cell_type": "code",
   "execution_count": 1,
   "id": "tropical-order",
   "metadata": {},
   "outputs": [],
   "source": [
    "from experiments_imports import *\r\n",
    "import sktime\r\n",
    "from sktime.utils.data_io import load_from_tsfile_to_dataframe\r\n",
    "warnings.filterwarnings('ignore') # AMI warning\r\n",
    "%matplotlib inline"
   ]
  },
  {
   "cell_type": "code",
   "execution_count": 2,
   "id": "yellow-uganda",
   "metadata": {},
   "outputs": [],
   "source": [
    "DATA_PATH = os.path.join(os.path.dirname(sktime.__file__),\"datasets/data\")# \"..\\data\\MTSC\")"
   ]
  },
  {
   "cell_type": "code",
   "execution_count": 3,
   "id": "convenient-geology",
   "metadata": {
    "scrolled": true,
    "tags": []
   },
   "outputs": [
    {
     "data": {
      "text/plain": [
       "['ACSF1',\n",
       " 'Airline',\n",
       " 'ArrowHead',\n",
       " 'BasicMotions',\n",
       " 'GunPoint',\n",
       " 'Heartbeat',\n",
       " 'ItalyPowerDemand',\n",
       " 'JapaneseVowels',\n",
       " 'Longley',\n",
       " 'Lynx',\n",
       " 'OSULeaf',\n",
       " 'PBS_dataset',\n",
       " 'PenDigits',\n",
       " 'PhonemeSpectra',\n",
       " 'PLAID',\n",
       " 'ShampooSales',\n",
       " 'Uschange']"
      ]
     },
     "execution_count": 3,
     "metadata": {},
     "output_type": "execute_result"
    }
   ],
   "source": [
    "os.listdir(DATA_PATH)"
   ]
  },
  {
   "cell_type": "code",
   "execution_count": 11,
   "id": "hollywood-clearing",
   "metadata": {},
   "outputs": [],
   "source": [
    "DATASET_NAME = \"PenDigits\""
   ]
  },
  {
   "cell_type": "code",
   "execution_count": 12,
   "id": "separated-camcorder",
   "metadata": {},
   "outputs": [],
   "source": [
    "read_heartbeat_train, heartbeat_labels_raw = load_from_tsfile_to_dataframe(\n",
    "    os.path.join(DATA_PATH, f\"{DATASET_NAME}/{DATASET_NAME}_TRAIN.ts\")\n",
    ")\n",
    "read_heartbeat_test, heartbeat_test_labels_raw = load_from_tsfile_to_dataframe(\n",
    "    os.path.join(DATA_PATH, f\"{DATASET_NAME}/{DATASET_NAME}_TEST.ts\")\n",
    ")"
   ]
  },
  {
   "cell_type": "code",
   "execution_count": 13,
   "id": "medium-wireless",
   "metadata": {},
   "outputs": [],
   "source": [
    "def Dataset2Flatten(features, labels):\r\n",
    "    return features.agg(lambda x:pd.concat(list(x)), axis=1), pd.factorize(labels)[0]"
   ]
  },
  {
   "cell_type": "code",
   "execution_count": 14,
   "id": "received-sewing",
   "metadata": {},
   "outputs": [],
   "source": [
    "np.random.seed(44)\n",
    "random.seed(44)\n",
    "heartbeat_data,heartbeat_labels_raw = Dataset2Flatten(read_heartbeat_train, heartbeat_labels_raw)\n",
    "heartbeat_test_data,heartbeat_test_labels_raw = Dataset2Flatten(read_heartbeat_test, heartbeat_test_labels_raw)"
   ]
  },
  {
   "cell_type": "code",
   "execution_count": 21,
   "id": "applicable-chrome",
   "metadata": {},
   "outputs": [
    {
     "data": {
      "text/plain": [
       "(3498, 16)"
      ]
     },
     "execution_count": 21,
     "metadata": {},
     "output_type": "execute_result"
    }
   ],
   "source": [
    "heartbeat_test_pca.shape"
   ]
  },
  {
   "cell_type": "code",
   "execution_count": 22,
   "id": "attractive-pickup",
   "metadata": {
    "scrolled": true,
    "tags": []
   },
   "outputs": [
    {
     "name": "stdout",
     "output_type": "stream",
     "text": [
      "LDA\n",
      "N 3498 Accuracy 0.73413 ARI 0.55958 AMI 0.67296\n",
      "QDA\n",
      "N 3498 Accuracy 0.87193 ARI 0.75732 AMI 0.80938\n",
      "RQDA-MCD\n",
      "RGQDA-MCD\n",
      "t-QDA\n",
      "N 3498 Accuracy 0.8665 ARI 0.75738 AMI 0.81261\n",
      "FEMDA with p/trace\n",
      "N 3498 Accuracy 0.82133 ARI 0.68889 AMI 0.76635\n",
      "FEMDA pre-normalised\n",
      "N 3498 Accuracy 0.8179 ARI 0.67977 AMI 0.76286\n",
      "LDA\n",
      "N 3498 Accuracy 0.73413 ARI 0.55958 AMI 0.67296\n",
      "QDA\n",
      "N 3498 Accuracy 0.87193 ARI 0.75732 AMI 0.80938\n",
      "RQDA-MCD\n",
      "RGQDA-MCD\n",
      "t-QDA\n",
      "N 3498 Accuracy 0.8665 ARI 0.75738 AMI 0.81261\n",
      "FEMDA with p/trace\n",
      "N 3498 Accuracy 0.82133 ARI 0.68889 AMI 0.76635\n",
      "FEMDA pre-normalised\n",
      "N 3498 Accuracy 0.8179 ARI 0.67977 AMI 0.76286\n"
     ]
    }
   ],
   "source": [
    "NUMBER_OF_RUNS = 2\n",
    "result_book_heartbeat = np.zeros((NUMBER_OF_ALGORITHMS,NUMBER_OF_MEASURES_REAL,NUMBER_OF_RUNS))\n",
    "for i in range(NUMBER_OF_RUNS):\n",
    "    #Sample and PCA\n",
    "    selected_digits = [0,1]\n",
    "    n_pca = 5#(i+1)*5\n",
    "    heartbeat_pca, heartbeat_labels, heartbeat_raw, ve, pca = import_subset(heartbeat_data, heartbeat_labels_raw, selected_digits, n_pca, -1)\n",
    "    heartbeat_test_pca, heartbeat_test_labels, heartbeat_test_raw,_,_2 = import_subset(heartbeat_test_data, heartbeat_test_labels_raw, selected_digits, n_pca, -1, pca=pca)\n",
    "        \n",
    "    #Run models (outlier rejection: change percent_outliers)\n",
    "    models, result_book_heartbeat[:,:,i] = run_all(heartbeat_pca, heartbeat_labels, heartbeat_test_pca, heartbeat_test_labels, percent_outliers=0, conf=False, verbose=True, return_results=True)"
   ]
  },
  {
   "cell_type": "code",
   "execution_count": 9,
   "id": "sufficient-automation",
   "metadata": {},
   "outputs": [
    {
     "name": "stdout",
     "output_type": "stream",
     "text": [
      "Stored 'result_book_heartbeat' (ndarray)\n"
     ]
    }
   ],
   "source": [
    "%store -r result_book_heartbeat"
   ]
  },
  {
   "cell_type": "code",
   "execution_count": 16,
   "id": "controlled-diamond",
   "metadata": {},
   "outputs": [
    {
     "data": {
      "image/png": "[encoded data removed]",
      "text/plain": [
       "<Figure size 432x288 with 1 Axes>"
      ]
     },
     "metadata": {
      "needs_background": "light"
     },
     "output_type": "display_data"
    }
   ],
   "source": [
    "plot_tQDA_vs_FEMDA(result_book_heartbeat, xaxis=5*(np.arange(NUMBER_OF_RUNS)+1), ylim=[0,1])"
   ]
  },
  {
   "cell_type": "code",
   "execution_count": null,
   "id": "similar-description",
   "metadata": {},
   "outputs": [],
   "source": []
  }
 ],
 "metadata": {
  "interpreter": {
   "hash": "c7a650d791d0a1d035b66682f8967f04fed3045153a1ba3c3bfeefd2541b18a6"
  },
  "kernelspec": {
   "display_name": "Python 3",
   "language": "python",
   "name": "python3"
  },
  "language_info": {
   "codemirror_mode": {
    "name": "ipython",
    "version": 3
   },
   "file_extension": ".py",
   "mimetype": "text/x-python",
   "name": "python",
   "nbconvert_exporter": "python",
   "pygments_lexer": "ipython3",
   "version": "3.8.7"
  }
 },
 "nbformat": 4,
 "nbformat_minor": 5
}
